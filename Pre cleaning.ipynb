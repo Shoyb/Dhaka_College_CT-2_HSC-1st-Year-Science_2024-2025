{
 "cells": [
  {
   "cell_type": "code",
   "execution_count": 1,
   "id": "386609e3",
   "metadata": {},
   "outputs": [],
   "source": [
    "import numpy as np\n",
    "import pandas as pd\n",
    "import matplotlib.pyplot as plt\n",
    "import seaborn as sns\n"
   ]
  },
  {
   "cell_type": "code",
   "execution_count": 8,
   "id": "4cab6ca4",
   "metadata": {},
   "outputs": [],
   "source": [
    "df = pd.read_csv(\"CT-2_HSC-1st Year-Science_2024-2025(Sheet1).csv\")"
   ]
  },
  {
   "cell_type": "code",
   "execution_count": 15,
   "id": "6883421d",
   "metadata": {},
   "outputs": [
    {
     "data": {
      "text/html": [
       "<div>\n",
       "<style scoped>\n",
       "    .dataframe tbody tr th:only-of-type {\n",
       "        vertical-align: middle;\n",
       "    }\n",
       "\n",
       "    .dataframe tbody tr th {\n",
       "        vertical-align: top;\n",
       "    }\n",
       "\n",
       "    .dataframe thead th {\n",
       "        text-align: right;\n",
       "    }\n",
       "</style>\n",
       "<table border=\"1\" class=\"dataframe\">\n",
       "  <thead>\n",
       "    <tr style=\"text-align: right;\">\n",
       "      <th></th>\n",
       "      <th>Sorted by merit Position</th>\n",
       "      <th>Unnamed: 1</th>\n",
       "      <th>Unnamed: 2</th>\n",
       "      <th>Unnamed: 3</th>\n",
       "      <th>Unnamed: 4</th>\n",
       "      <th>Unnamed: 5</th>\n",
       "      <th>Sorted by Roll Number</th>\n",
       "      <th>Unnamed: 7</th>\n",
       "      <th>Unnamed: 8</th>\n",
       "      <th>Unnamed: 9</th>\n",
       "      <th>...</th>\n",
       "      <th>Unnamed: 32</th>\n",
       "      <th>Unnamed: 33</th>\n",
       "      <th>Unnamed: 34</th>\n",
       "      <th>Unnamed: 35</th>\n",
       "      <th>Unnamed: 36</th>\n",
       "      <th>Unnamed: 37</th>\n",
       "      <th>Unnamed: 38</th>\n",
       "      <th>Unnamed: 39</th>\n",
       "      <th>Unnamed: 40</th>\n",
       "      <th>Unnamed: 41</th>\n",
       "    </tr>\n",
       "  </thead>\n",
       "  <tbody>\n",
       "    <tr>\n",
       "      <th>0</th>\n",
       "      <td>Name</td>\n",
       "      <td>Roll No.</td>\n",
       "      <td>Merit</td>\n",
       "      <td>total</td>\n",
       "      <td>gpa</td>\n",
       "      <td>no of failed Subject</td>\n",
       "      <td>Name</td>\n",
       "      <td>Roll No.</td>\n",
       "      <td>Merit</td>\n",
       "      <td>total</td>\n",
       "      <td>...</td>\n",
       "      <td>NaN</td>\n",
       "      <td>NaN</td>\n",
       "      <td>NaN</td>\n",
       "      <td>NaN</td>\n",
       "      <td>NaN</td>\n",
       "      <td>NaN</td>\n",
       "      <td>NaN</td>\n",
       "      <td>NaN</td>\n",
       "      <td>NaN</td>\n",
       "      <td>NaN</td>\n",
       "    </tr>\n",
       "    <tr>\n",
       "      <th>1</th>\n",
       "      <td>NAHIYAN AHMED</td>\n",
       "      <td>1202425010019</td>\n",
       "      <td>1</td>\n",
       "      <td>130</td>\n",
       "      <td>5.00</td>\n",
       "      <td>Passed</td>\n",
       "      <td>MD. NAGIB MAHAFUZ</td>\n",
       "      <td>1202425010001</td>\n",
       "      <td>424</td>\n",
       "      <td>89</td>\n",
       "      <td>...</td>\n",
       "      <td>NaN</td>\n",
       "      <td>NaN</td>\n",
       "      <td>NaN</td>\n",
       "      <td>NaN</td>\n",
       "      <td>NaN</td>\n",
       "      <td>NaN</td>\n",
       "      <td>NaN</td>\n",
       "      <td>NaN</td>\n",
       "      <td>NaN</td>\n",
       "      <td>NaN</td>\n",
       "    </tr>\n",
       "    <tr>\n",
       "      <th>2</th>\n",
       "      <td>FARSAD BIN HAROUN</td>\n",
       "      <td>1202425010099</td>\n",
       "      <td>2</td>\n",
       "      <td>128</td>\n",
       "      <td>5.00</td>\n",
       "      <td>Passed</td>\n",
       "      <td>MD. SHOYB HASAN</td>\n",
       "      <td>1202425010002</td>\n",
       "      <td>313</td>\n",
       "      <td>97</td>\n",
       "      <td>...</td>\n",
       "      <td>NaN</td>\n",
       "      <td>NaN</td>\n",
       "      <td>NaN</td>\n",
       "      <td>NaN</td>\n",
       "      <td>NaN</td>\n",
       "      <td>NaN</td>\n",
       "      <td>NaN</td>\n",
       "      <td>NaN</td>\n",
       "      <td>NaN</td>\n",
       "      <td>NaN</td>\n",
       "    </tr>\n",
       "    <tr>\n",
       "      <th>3</th>\n",
       "      <td>MD.ABU JAFOR</td>\n",
       "      <td>1202425010239</td>\n",
       "      <td>3</td>\n",
       "      <td>126</td>\n",
       "      <td>5.00</td>\n",
       "      <td>Passed</td>\n",
       "      <td>SAZID MAHMUD</td>\n",
       "      <td>1202425010003</td>\n",
       "      <td>100</td>\n",
       "      <td>105</td>\n",
       "      <td>...</td>\n",
       "      <td>NaN</td>\n",
       "      <td>NaN</td>\n",
       "      <td>NaN</td>\n",
       "      <td>NaN</td>\n",
       "      <td>NaN</td>\n",
       "      <td>NaN</td>\n",
       "      <td>NaN</td>\n",
       "      <td>NaN</td>\n",
       "      <td>NaN</td>\n",
       "      <td>NaN</td>\n",
       "    </tr>\n",
       "    <tr>\n",
       "      <th>4</th>\n",
       "      <td>NUR MOHAMMAD KAFI</td>\n",
       "      <td>1202425010767</td>\n",
       "      <td>4</td>\n",
       "      <td>126</td>\n",
       "      <td>5.00</td>\n",
       "      <td>Passed</td>\n",
       "      <td>MD. SAYEED AL JUBAYER</td>\n",
       "      <td>1202425010004</td>\n",
       "      <td>314</td>\n",
       "      <td>97</td>\n",
       "      <td>...</td>\n",
       "      <td>NaN</td>\n",
       "      <td>NaN</td>\n",
       "      <td>NaN</td>\n",
       "      <td>NaN</td>\n",
       "      <td>NaN</td>\n",
       "      <td>NaN</td>\n",
       "      <td>NaN</td>\n",
       "      <td>NaN</td>\n",
       "      <td>NaN</td>\n",
       "      <td>NaN</td>\n",
       "    </tr>\n",
       "  </tbody>\n",
       "</table>\n",
       "<p>5 rows × 42 columns</p>\n",
       "</div>"
      ],
      "text/plain": [
       "  Sorted by merit Position     Unnamed: 1 Unnamed: 2 Unnamed: 3 Unnamed: 4  \\\n",
       "0                     Name       Roll No.      Merit      total        gpa   \n",
       "1            NAHIYAN AHMED  1202425010019          1        130       5.00   \n",
       "2        FARSAD BIN HAROUN  1202425010099          2        128       5.00   \n",
       "3             MD.ABU JAFOR  1202425010239          3        126       5.00   \n",
       "4        NUR MOHAMMAD KAFI  1202425010767          4        126       5.00   \n",
       "\n",
       "              Unnamed: 5   Sorted by Roll Number     Unnamed: 7 Unnamed: 8  \\\n",
       "0   no of failed Subject                    Name       Roll No.      Merit   \n",
       "1                 Passed       MD. NAGIB MAHAFUZ  1202425010001        424   \n",
       "2                 Passed         MD. SHOYB HASAN  1202425010002        313   \n",
       "3                 Passed            SAZID MAHMUD  1202425010003        100   \n",
       "4                 Passed   MD. SAYEED AL JUBAYER  1202425010004        314   \n",
       "\n",
       "  Unnamed: 9  ... Unnamed: 32 Unnamed: 33  Unnamed: 34  Unnamed: 35  \\\n",
       "0      total  ...         NaN         NaN          NaN          NaN   \n",
       "1         89  ...         NaN         NaN          NaN          NaN   \n",
       "2         97  ...         NaN         NaN          NaN          NaN   \n",
       "3        105  ...         NaN         NaN          NaN          NaN   \n",
       "4         97  ...         NaN         NaN          NaN          NaN   \n",
       "\n",
       "   Unnamed: 36  Unnamed: 37  Unnamed: 38  Unnamed: 39  Unnamed: 40  \\\n",
       "0          NaN          NaN          NaN          NaN          NaN   \n",
       "1          NaN          NaN          NaN          NaN          NaN   \n",
       "2          NaN          NaN          NaN          NaN          NaN   \n",
       "3          NaN          NaN          NaN          NaN          NaN   \n",
       "4          NaN          NaN          NaN          NaN          NaN   \n",
       "\n",
       "   Unnamed: 41  \n",
       "0          NaN  \n",
       "1          NaN  \n",
       "2          NaN  \n",
       "3          NaN  \n",
       "4          NaN  \n",
       "\n",
       "[5 rows x 42 columns]"
      ]
     },
     "execution_count": 15,
     "metadata": {},
     "output_type": "execute_result"
    }
   ],
   "source": [
    "df.head()"
   ]
  },
  {
   "cell_type": "code",
   "execution_count": 10,
   "id": "affa6ef4",
   "metadata": {},
   "outputs": [
    {
     "data": {
      "text/plain": [
       "Index(['Sorted by merit Position', 'Unnamed: 1', 'Unnamed: 2', 'Unnamed: 3',\n",
       "       'Unnamed: 4', 'Unnamed: 5', 'Sorted by Roll Number', 'Unnamed: 7',\n",
       "       'Unnamed: 8', 'Unnamed: 9', 'Unnamed: 10', 'Unnamed: 11', 'Unnamed: 12',\n",
       "       'Unnamed: 13', 'Unnamed: 14', 'Unnamed: 15', 'Unnamed: 16',\n",
       "       'Unnamed: 17', 'Unnamed: 18', 'Unnamed: 19', 'Unnamed: 20',\n",
       "       'Unnamed: 21', 'Unnamed: 22', 'Unnamed: 23', 'Unnamed: 24',\n",
       "       'Unnamed: 25', 'Unnamed: 26', 'Unnamed: 27', 'Unnamed: 28',\n",
       "       'Unnamed: 29', 'Unnamed: 30', 'Unnamed: 31', 'Unnamed: 32',\n",
       "       'Unnamed: 33', 'Unnamed: 34', 'Unnamed: 35', 'Unnamed: 36',\n",
       "       'Unnamed: 37', 'Unnamed: 38', 'Unnamed: 39', 'Unnamed: 40',\n",
       "       'Unnamed: 41'],\n",
       "      dtype='object')"
      ]
     },
     "execution_count": 10,
     "metadata": {},
     "output_type": "execute_result"
    }
   ],
   "source": [
    "df.columns"
   ]
  },
  {
   "cell_type": "code",
   "execution_count": 11,
   "id": "b848ceb9",
   "metadata": {},
   "outputs": [],
   "source": [
    "head_row = df.iloc[0]"
   ]
  },
  {
   "cell_type": "code",
   "execution_count": 12,
   "id": "ddef3f7a",
   "metadata": {},
   "outputs": [],
   "source": [
    "data = df[1:].reset_index(drop=True)"
   ]
  },
  {
   "cell_type": "code",
   "execution_count": 14,
   "id": "d03da52d",
   "metadata": {},
   "outputs": [],
   "source": [
    "data_1 = data.iloc[:, 0:6].copy()\n",
    "data_2 = data.iloc[:, 6:12].copy()"
   ]
  },
  {
   "cell_type": "code",
   "execution_count": 16,
   "id": "ae5d02ed",
   "metadata": {},
   "outputs": [],
   "source": [
    "data_1.columns = head_row[0:6].values\n",
    "data_2.columns = head_row[6:12].values"
   ]
  },
  {
   "cell_type": "code",
   "execution_count": 17,
   "id": "570c585b",
   "metadata": {},
   "outputs": [
    {
     "data": {
      "text/html": [
       "<div>\n",
       "<style scoped>\n",
       "    .dataframe tbody tr th:only-of-type {\n",
       "        vertical-align: middle;\n",
       "    }\n",
       "\n",
       "    .dataframe tbody tr th {\n",
       "        vertical-align: top;\n",
       "    }\n",
       "\n",
       "    .dataframe thead th {\n",
       "        text-align: right;\n",
       "    }\n",
       "</style>\n",
       "<table border=\"1\" class=\"dataframe\">\n",
       "  <thead>\n",
       "    <tr style=\"text-align: right;\">\n",
       "      <th></th>\n",
       "      <th>Name</th>\n",
       "      <th>Roll No.</th>\n",
       "      <th>Merit</th>\n",
       "      <th>total</th>\n",
       "      <th>gpa</th>\n",
       "      <th>no of failed Subject</th>\n",
       "    </tr>\n",
       "  </thead>\n",
       "  <tbody>\n",
       "    <tr>\n",
       "      <th>0</th>\n",
       "      <td>NAHIYAN AHMED</td>\n",
       "      <td>1202425010019</td>\n",
       "      <td>1</td>\n",
       "      <td>130</td>\n",
       "      <td>5.00</td>\n",
       "      <td>Passed</td>\n",
       "    </tr>\n",
       "    <tr>\n",
       "      <th>1</th>\n",
       "      <td>FARSAD BIN HAROUN</td>\n",
       "      <td>1202425010099</td>\n",
       "      <td>2</td>\n",
       "      <td>128</td>\n",
       "      <td>5.00</td>\n",
       "      <td>Passed</td>\n",
       "    </tr>\n",
       "    <tr>\n",
       "      <th>2</th>\n",
       "      <td>MD.ABU JAFOR</td>\n",
       "      <td>1202425010239</td>\n",
       "      <td>3</td>\n",
       "      <td>126</td>\n",
       "      <td>5.00</td>\n",
       "      <td>Passed</td>\n",
       "    </tr>\n",
       "    <tr>\n",
       "      <th>3</th>\n",
       "      <td>NUR MOHAMMAD KAFI</td>\n",
       "      <td>1202425010767</td>\n",
       "      <td>4</td>\n",
       "      <td>126</td>\n",
       "      <td>5.00</td>\n",
       "      <td>Passed</td>\n",
       "    </tr>\n",
       "    <tr>\n",
       "      <th>4</th>\n",
       "      <td>NAVO NAJIF SHARIF</td>\n",
       "      <td>1202425010217</td>\n",
       "      <td>5</td>\n",
       "      <td>125</td>\n",
       "      <td>5.00</td>\n",
       "      <td>Passed</td>\n",
       "    </tr>\n",
       "  </tbody>\n",
       "</table>\n",
       "</div>"
      ],
      "text/plain": [
       "                 Name       Roll No. Merit total   gpa  no of failed Subject\n",
       "0       NAHIYAN AHMED  1202425010019     1   130  5.00                Passed\n",
       "1   FARSAD BIN HAROUN  1202425010099     2   128  5.00                Passed\n",
       "2        MD.ABU JAFOR  1202425010239     3   126  5.00                Passed\n",
       "3   NUR MOHAMMAD KAFI  1202425010767     4   126  5.00                Passed\n",
       "4   NAVO NAJIF SHARIF  1202425010217     5   125  5.00                Passed"
      ]
     },
     "execution_count": 17,
     "metadata": {},
     "output_type": "execute_result"
    }
   ],
   "source": [
    "data_1.head()"
   ]
  },
  {
   "cell_type": "code",
   "execution_count": 19,
   "id": "e68097c1",
   "metadata": {},
   "outputs": [
    {
     "data": {
      "text/plain": [
       "Name                     17\n",
       "Roll No.                 17\n",
       "Merit                    17\n",
       "total                    17\n",
       "gpa                      17\n",
       " no of failed Subject    17\n",
       "dtype: int64"
      ]
     },
     "execution_count": 19,
     "metadata": {},
     "output_type": "execute_result"
    }
   ],
   "source": [
    "data_1.isnull().sum()"
   ]
  },
  {
   "cell_type": "code",
   "execution_count": 20,
   "id": "d1e9df47",
   "metadata": {},
   "outputs": [],
   "source": [
    "data_1.dropna(how='all', inplace=True)\n",
    "data_2.dropna(how='all', inplace=True)"
   ]
  },
  {
   "cell_type": "code",
   "execution_count": 21,
   "id": "4159ceab",
   "metadata": {},
   "outputs": [
    {
     "name": "stdout",
     "output_type": "stream",
     "text": [
      "<class 'pandas.core.frame.DataFrame'>\n",
      "Index: 883 entries, 0 to 882\n",
      "Data columns (total 6 columns):\n",
      " #   Column                 Non-Null Count  Dtype \n",
      "---  ------                 --------------  ----- \n",
      " 0   Name                   883 non-null    object\n",
      " 1   Roll No.               883 non-null    object\n",
      " 2   Merit                  883 non-null    object\n",
      " 3   total                  883 non-null    object\n",
      " 4   gpa                    883 non-null    object\n",
      " 5    no of failed Subject  883 non-null    object\n",
      "dtypes: object(6)\n",
      "memory usage: 48.3+ KB\n"
     ]
    }
   ],
   "source": [
    "data_1.info()"
   ]
  },
  {
   "cell_type": "code",
   "execution_count": 22,
   "id": "7a0cc97b",
   "metadata": {},
   "outputs": [
    {
     "name": "stdout",
     "output_type": "stream",
     "text": [
      "<class 'pandas.core.frame.DataFrame'>\n",
      "Index: 883 entries, 0 to 882\n",
      "Data columns (total 6 columns):\n",
      " #   Column                 Non-Null Count  Dtype \n",
      "---  ------                 --------------  ----- \n",
      " 0   Name                   883 non-null    object\n",
      " 1   Roll No.               883 non-null    object\n",
      " 2   Merit                  883 non-null    object\n",
      " 3   total                  883 non-null    object\n",
      " 4   gpa                    883 non-null    object\n",
      " 5    no of failed Subject  883 non-null    object\n",
      "dtypes: object(6)\n",
      "memory usage: 48.3+ KB\n"
     ]
    }
   ],
   "source": [
    "data_2.info()"
   ]
  },
  {
   "cell_type": "code",
   "execution_count": 23,
   "id": "960cdf9a",
   "metadata": {},
   "outputs": [],
   "source": [
    "data_1.to_csv(\"data_1.csv\", index=False)\n",
    "data_2.to_csv(\"data_2.csv\", index=False)"
   ]
  }
 ],
 "metadata": {
  "kernelspec": {
   "display_name": "Python 3",
   "language": "python",
   "name": "python3"
  },
  "language_info": {
   "codemirror_mode": {
    "name": "ipython",
    "version": 3
   },
   "file_extension": ".py",
   "mimetype": "text/x-python",
   "name": "python",
   "nbconvert_exporter": "python",
   "pygments_lexer": "ipython3",
   "version": "3.12.3"
  }
 },
 "nbformat": 4,
 "nbformat_minor": 5
}
